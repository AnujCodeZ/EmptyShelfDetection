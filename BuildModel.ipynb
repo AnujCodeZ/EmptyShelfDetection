{
 "cells": [
  {
   "cell_type": "code",
   "execution_count": 8,
   "metadata": {},
   "outputs": [],
   "source": [
    "import tensorflow as tf\n",
    "from tensorflow.keras.models import Sequential\n",
    "from tensorflow.keras.layers import Dense, Dropout, Activation, Flatten, Conv2D, MaxPooling2D\n",
    "import pickle"
   ]
  },
  {
   "cell_type": "code",
   "execution_count": 9,
   "metadata": {},
   "outputs": [],
   "source": [
    "X = pickle.load(open('X.pickle','rb'))\n",
    "y = pickle.load(open('y.pickle','rb'))\n",
    "\n",
    "X = X/255.0 #normalize\n"
   ]
  },
  {
   "cell_type": "code",
   "execution_count": 10,
   "metadata": {},
   "outputs": [
    {
     "name": "stdout",
     "output_type": "stream",
     "text": [
      "Train on 91 samples, validate on 11 samples\n",
      "Epoch 1/10\n",
      "91/91 [==============================] - 1s 8ms/sample - loss: 0.7222 - acc: 0.5714 - val_loss: 0.7048 - val_acc: 0.2727\n",
      "Epoch 2/10\n",
      "91/91 [==============================] - 1s 7ms/sample - loss: 0.6400 - acc: 0.6813 - val_loss: 1.1692 - val_acc: 0.2727\n",
      "Epoch 3/10\n",
      "91/91 [==============================] - 1s 7ms/sample - loss: 0.6796 - acc: 0.6264 - val_loss: 0.6586 - val_acc: 0.6364\n",
      "Epoch 4/10\n",
      "91/91 [==============================] - 1s 7ms/sample - loss: 0.6459 - acc: 0.6154 - val_loss: 0.8748 - val_acc: 0.2727\n",
      "Epoch 5/10\n",
      "91/91 [==============================] - 1s 7ms/sample - loss: 0.5262 - acc: 0.7033 - val_loss: 0.6252 - val_acc: 0.6364\n",
      "Epoch 6/10\n",
      "91/91 [==============================] - 1s 7ms/sample - loss: 0.4740 - acc: 0.6923 - val_loss: 1.0828 - val_acc: 0.2727\n",
      "Epoch 7/10\n",
      "91/91 [==============================] - 1s 8ms/sample - loss: 0.4858 - acc: 0.7253 - val_loss: 0.6391 - val_acc: 0.4545\n",
      "Epoch 8/10\n",
      "91/91 [==============================] - 1s 7ms/sample - loss: 0.3675 - acc: 0.8242 - val_loss: 0.4927 - val_acc: 0.9091\n",
      "Epoch 9/10\n",
      "91/91 [==============================] - 1s 8ms/sample - loss: 0.3223 - acc: 0.9011 - val_loss: 0.3801 - val_acc: 0.7273\n",
      "Epoch 10/10\n",
      "91/91 [==============================] - 1s 7ms/sample - loss: 0.3558 - acc: 0.8242 - val_loss: 0.3848 - val_acc: 0.9091\n"
     ]
    }
   ],
   "source": [
    "model = Sequential()\n",
    "\n",
    "model.add(Conv2D(64, (3,3), input_shape = X.shape[1:]))\n",
    "model.add(Activation(\"relu\"))\n",
    "model.add(MaxPooling2D(pool_size=(2,2)))\n",
    "\n",
    "model.add(Conv2D(64, (3,3)))\n",
    "model.add(Activation(\"relu\"))\n",
    "model.add(MaxPooling2D(pool_size=(2,2)))\n",
    "\n",
    "model.add(Flatten())\n",
    "model.add(Dense(64))\n",
    "\n",
    "model.add(Dense(1))\n",
    "model.add(Activation(\"sigmoid\"))\n",
    "\n",
    "model.compile(loss=\"binary_crossentropy\",\n",
    "             optimizer=\"adam\",\n",
    "             metrics=[\"accuracy\"])\n",
    "\n",
    "model.fit(X, y, batch_size=5, epochs = 10,validation_split=0.1)\n",
    "model.save('my_model.h5')"
   ]
  },
  {
   "cell_type": "code",
   "execution_count": null,
   "metadata": {},
   "outputs": [],
   "source": []
  }
 ],
 "metadata": {
  "kernelspec": {
   "display_name": "Python 3",
   "language": "python",
   "name": "python3"
  },
  "language_info": {
   "codemirror_mode": {
    "name": "ipython",
    "version": 3
   },
   "file_extension": ".py",
   "mimetype": "text/x-python",
   "name": "python",
   "nbconvert_exporter": "python",
   "pygments_lexer": "ipython3",
   "version": "3.6.8"
  }
 },
 "nbformat": 4,
 "nbformat_minor": 2
}
