{
 "cells": [
  {
   "cell_type": "code",
   "execution_count": 2,
   "metadata": {},
   "outputs": [],
   "source": [
    "import tensorflow as tf"
   ]
  },
  {
   "cell_type": "code",
   "execution_count": 4,
   "metadata": {},
   "outputs": [],
   "source": [
    "model = tf.keras.models.load_model(\"my_model.h5\")"
   ]
  },
  {
   "cell_type": "code",
   "execution_count": 7,
   "metadata": {},
   "outputs": [],
   "source": [
    "import cv2\n",
    "import numpy as np\n",
    "import os\n",
    "\n",
    "IMGDIR = \"CHEX_MIX-4.99.jpg\"\n",
    "\n",
    "img = cv2.imread(IMGDIR, cv2.IMREAD_GRAYSCALE)\n",
    "new_img = cv2.resize(img,(70,70))\n",
    "\n",
    "ex = np.array(new_img).reshape(-1,70,70,1)"
   ]
  },
  {
   "cell_type": "code",
   "execution_count": 8,
   "metadata": {},
   "outputs": [],
   "source": [
    "pred = model.predict(ex)\n",
    "if pred < 0.5:\n",
    "    flag = 0\n",
    "else:\n",
    "    flag = 1"
   ]
  },
  {
   "cell_type": "code",
   "execution_count": 9,
   "metadata": {},
   "outputs": [],
   "source": [
    "import numpy as np\n",
    "import pytesseract\n",
    "\n",
    "ori_img = cv2.imread(IMGDIR)\n",
    "\n",
    "hsv = cv2.cvtColor(ori_img, cv2.COLOR_BGR2HSV)\n",
    "\n",
    "sensitivity = 15\n",
    "lower_white = np.array([0,0,255-sensitivity])\n",
    "upper_white = np.array([255,sensitivity,255])\n",
    "mask = cv2.inRange(hsv, lower_white, upper_white)\n",
    "img = cv2.bitwise_and(ori_img,ori_img, mask= mask)\n",
    "\n",
    "text = pytesseract.image_to_string(img)\n",
    "\n",
    "DateTime = text[8:38]\n",
    "Location = text[100:170]"
   ]
  },
  {
   "cell_type": "code",
   "execution_count": 10,
   "metadata": {},
   "outputs": [],
   "source": [
    "name, ext = os.path.splitext(IMGDIR)\n",
    "\n",
    "name = name.replace('_',' ')\n",
    "name = name.replace('-',' of price ')"
   ]
  },
  {
   "cell_type": "code",
   "execution_count": 13,
   "metadata": {},
   "outputs": [
    {
     "name": "stdout",
     "output_type": "stream",
     "text": [
      "Item not present\n"
     ]
    }
   ],
   "source": [
    "import smtplib \n",
    "if flag==0:\n",
    "    print(\"Item not present\")\n",
    "    s = smtplib.SMTP('smtp.gmail.com', 587) \n",
    "\n",
    "    s.starttls() \n",
    "\n",
    "    s.login(\"sender_email_id\", \"sender_email_id_password\") \n",
    "\n",
    "    message = \"Item \" + name + \" is missing from the shell. \\n\\n This picture is taken at location : \\n\\n\" + Location + \"\\n\\n on Date and time : \\n\\n\" + DateTime\n",
    "\n",
    "    s.sendmail(\"sender_email_id\", \"receiver_email_id\", message) \n",
    "\n",
    "    s.quit() \n",
    "else:\n",
    "    print(\"Item present\")"
   ]
  },
  {
   "cell_type": "code",
   "execution_count": null,
   "metadata": {},
   "outputs": [],
   "source": []
  }
 ],
 "metadata": {
  "kernelspec": {
   "display_name": "Python 3",
   "language": "python",
   "name": "python3"
  },
  "language_info": {
   "codemirror_mode": {
    "name": "ipython",
    "version": 3
   },
   "file_extension": ".py",
   "mimetype": "text/x-python",
   "name": "python",
   "nbconvert_exporter": "python",
   "pygments_lexer": "ipython3",
   "version": "3.6.8"
  }
 },
 "nbformat": 4,
 "nbformat_minor": 2
}
